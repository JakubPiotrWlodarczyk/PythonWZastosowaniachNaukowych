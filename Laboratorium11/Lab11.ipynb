{
 "cells": [
  {
   "cell_type": "code",
   "execution_count": 104,
   "metadata": {},
   "outputs": [],
   "source": [
    "import numpy as np\n",
    "import pandas as pd\n",
    "import matplotlib as plt"
   ]
  },
  {
   "cell_type": "code",
   "execution_count": 105,
   "metadata": {},
   "outputs": [],
   "source": [
    "\n",
    "data_cars = pd.read_csv('cars.csv')\n",
    "#data_cars"
   ]
  },
  {
   "cell_type": "code",
   "execution_count": 106,
   "metadata": {},
   "outputs": [],
   "source": [
    "all_cars = len(data_cars)\n",
    "# Ilosc samochodow"
   ]
  },
  {
   "cell_type": "code",
   "execution_count": 107,
   "metadata": {},
   "outputs": [],
   "source": [
    "all_cars_zero = len(data_cars[data_cars.ElectricRange == 0])\n",
    "# Ilosc samochodow z 0 zasiegiem"
   ]
  },
  {
   "cell_type": "code",
   "execution_count": 108,
   "metadata": {},
   "outputs": [
    {
     "data": {
      "text/plain": [
       "36.339441535776615"
      ]
     },
     "execution_count": 108,
     "metadata": {},
     "output_type": "execute_result"
    }
   ],
   "source": [
    "zerowy_zasieg = all_cars_zero/all_cars*100\n",
    "zerowy_zasieg\n",
    "# Taki procent samochodow ma nie podany zasieg"
   ]
  },
  {
   "cell_type": "code",
   "execution_count": 109,
   "metadata": {},
   "outputs": [
    {
     "data": {
      "text/plain": [
       "array([[<AxesSubplot: title={'center': 'ElectricRange'}>]], dtype=object)"
      ]
     },
     "execution_count": 109,
     "metadata": {},
     "output_type": "execute_result"
    },
    {
     "data": {
      "image/png": "[encoded data removed]",
      "text/plain": [
       "<Figure size 1200x800 with 1 Axes>"
      ]
     },
     "metadata": {},
     "output_type": "display_data"
    }
   ],
   "source": [
    "data_cars = data_cars.drop(data_cars[data_cars.ElectricRange == 0].index)\n",
    "data_cars.hist(column='ElectricRange', bins=15, grid=False, figsize=(12,8), color='#86bf91', zorder=2, rwidth=0.9)\n",
    "# Histogram zasiegu samochodow bez 0"
   ]
  },
  {
   "cell_type": "code",
   "execution_count": 110,
   "metadata": {},
   "outputs": [
    {
     "data": {
      "text/plain": [
       "5655"
      ]
     },
     "execution_count": 110,
     "metadata": {},
     "output_type": "execute_result"
    }
   ],
   "source": [
    "data_cars.VIN.unique().size\n",
    "# Ilosc unikalnych samochodow (po numerze VIN):"
   ]
  },
  {
   "cell_type": "code",
   "execution_count": 111,
   "metadata": {},
   "outputs": [
    {
     "data": {
      "text/plain": [
       "1997"
      ]
     },
     "execution_count": 111,
     "metadata": {},
     "output_type": "execute_result"
    }
   ],
   "source": [
    "data_cars.ModelYear.min()\n",
    "# Najstarsze samochody elektryczne w tej tabeli sa z roku:"
   ]
  },
  {
   "cell_type": "code",
   "execution_count": 112,
   "metadata": {},
   "outputs": [
    {
     "data": {
      "text/html": [
       "<div>\n",
       "<style scoped>\n",
       "    .dataframe tbody tr th:only-of-type {\n",
       "        vertical-align: middle;\n",
       "    }\n",
       "\n",
       "    .dataframe tbody tr th {\n",
       "        vertical-align: top;\n",
       "    }\n",
       "\n",
       "    .dataframe thead th {\n",
       "        text-align: right;\n",
       "    }\n",
       "</style>\n",
       "<table border=\"1\" class=\"dataframe\">\n",
       "  <thead>\n",
       "    <tr style=\"text-align: right;\">\n",
       "      <th></th>\n",
       "      <th>ModelYear</th>\n",
       "      <th>Make</th>\n",
       "      <th>Model</th>\n",
       "      <th>ElectricVehicleType</th>\n",
       "      <th>CleanAlternativeFuelVehicleEligibility</th>\n",
       "      <th>ElectricRange</th>\n",
       "    </tr>\n",
       "  </thead>\n",
       "  <tbody>\n",
       "    <tr>\n",
       "      <th>72561</th>\n",
       "      <td>1997</td>\n",
       "      <td>CHEVROLET</td>\n",
       "      <td>S-10 PICKUP</td>\n",
       "      <td>Battery Electric Vehicle (BEV)</td>\n",
       "      <td>Clean Alternative Fuel Vehicle Eligible</td>\n",
       "      <td>39</td>\n",
       "    </tr>\n",
       "  </tbody>\n",
       "</table>\n",
       "</div>"
      ],
      "text/plain": [
       "       ModelYear       Make        Model             ElectricVehicleType  \\\n",
       "72561       1997  CHEVROLET  S-10 PICKUP  Battery Electric Vehicle (BEV)   \n",
       "\n",
       "        CleanAlternativeFuelVehicleEligibility  ElectricRange  \n",
       "72561  Clean Alternative Fuel Vehicle Eligible             39  "
      ]
     },
     "execution_count": 112,
     "metadata": {},
     "output_type": "execute_result"
    }
   ],
   "source": [
    "data_cars.loc[(data_cars.ModelYear == data_cars.ModelYear.min())].head(1)[['ModelYear', 'Make', 'Model', 'ElectricVehicleType', 'CleanAlternativeFuelVehicleEligibility', 'ElectricRange']]\n",
    "#informacje o najstarszym samochodzie"
   ]
  },
  {
   "cell_type": "code",
   "execution_count": 113,
   "metadata": {},
   "outputs": [
    {
     "data": {
      "text/html": [
       "<div>\n",
       "<style scoped>\n",
       "    .dataframe tbody tr th:only-of-type {\n",
       "        vertical-align: middle;\n",
       "    }\n",
       "\n",
       "    .dataframe tbody tr th {\n",
       "        vertical-align: top;\n",
       "    }\n",
       "\n",
       "    .dataframe thead th {\n",
       "        text-align: right;\n",
       "    }\n",
       "</style>\n",
       "<table border=\"1\" class=\"dataframe\">\n",
       "  <thead>\n",
       "    <tr style=\"text-align: right;\">\n",
       "      <th></th>\n",
       "      <th>ModelYear</th>\n",
       "      <th>Make</th>\n",
       "      <th>Model</th>\n",
       "      <th>ElectricVehicleType</th>\n",
       "      <th>CleanAlternativeFuelVehicleEligibility</th>\n",
       "      <th>ElectricRange</th>\n",
       "    </tr>\n",
       "  </thead>\n",
       "  <tbody>\n",
       "    <tr>\n",
       "      <th>212</th>\n",
       "      <td>2023</td>\n",
       "      <td>KIA</td>\n",
       "      <td>SPORTAGE</td>\n",
       "      <td>Plug-in Hybrid Electric Vehicle (PHEV)</td>\n",
       "      <td>Clean Alternative Fuel Vehicle Eligible</td>\n",
       "      <td>34</td>\n",
       "    </tr>\n",
       "  </tbody>\n",
       "</table>\n",
       "</div>"
      ],
      "text/plain": [
       "     ModelYear Make     Model                     ElectricVehicleType  \\\n",
       "212       2023  KIA  SPORTAGE  Plug-in Hybrid Electric Vehicle (PHEV)   \n",
       "\n",
       "      CleanAlternativeFuelVehicleEligibility  ElectricRange  \n",
       "212  Clean Alternative Fuel Vehicle Eligible             34  "
      ]
     },
     "execution_count": 113,
     "metadata": {},
     "output_type": "execute_result"
    }
   ],
   "source": [
    "data_cars_model_unique = data_cars.drop_duplicates(subset=['Make', 'Model'], keep='first')\n",
    "data_cars_model_unique.loc[(data_cars.ModelYear == data_cars.ModelYear.max()) & (data_cars.ElectricRange>0)].head(1)[['ModelYear', 'Make', 'Model', 'ElectricVehicleType', 'CleanAlternativeFuelVehicleEligibility', 'ElectricRange']]\n",
    "#informacje o najmlodszym samochodzie "
   ]
  },
  {
   "cell_type": "code",
   "execution_count": 114,
   "metadata": {},
   "outputs": [
    {
     "data": {
      "text/html": [
       "<div>\n",
       "<style scoped>\n",
       "    .dataframe tbody tr th:only-of-type {\n",
       "        vertical-align: middle;\n",
       "    }\n",
       "\n",
       "    .dataframe tbody tr th {\n",
       "        vertical-align: top;\n",
       "    }\n",
       "\n",
       "    .dataframe thead th {\n",
       "        text-align: right;\n",
       "    }\n",
       "</style>\n",
       "<table border=\"1\" class=\"dataframe\">\n",
       "  <thead>\n",
       "    <tr style=\"text-align: right;\">\n",
       "      <th></th>\n",
       "      <th>Make</th>\n",
       "      <th>Model</th>\n",
       "      <th>ModelYear</th>\n",
       "      <th>ElectricRange</th>\n",
       "    </tr>\n",
       "  </thead>\n",
       "  <tbody>\n",
       "    <tr>\n",
       "      <th>50515</th>\n",
       "      <td>TESLA</td>\n",
       "      <td>MODEL S</td>\n",
       "      <td>2020</td>\n",
       "      <td>337</td>\n",
       "    </tr>\n",
       "    <tr>\n",
       "      <th>13184</th>\n",
       "      <td>TESLA</td>\n",
       "      <td>MODEL 3</td>\n",
       "      <td>2020</td>\n",
       "      <td>322</td>\n",
       "    </tr>\n",
       "    <tr>\n",
       "      <th>54413</th>\n",
       "      <td>TESLA</td>\n",
       "      <td>MODEL X</td>\n",
       "      <td>2020</td>\n",
       "      <td>293</td>\n",
       "    </tr>\n",
       "    <tr>\n",
       "      <th>102114</th>\n",
       "      <td>TESLA</td>\n",
       "      <td>MODEL Y</td>\n",
       "      <td>2020</td>\n",
       "      <td>291</td>\n",
       "    </tr>\n",
       "    <tr>\n",
       "      <th>76334</th>\n",
       "      <td>CHEVROLET</td>\n",
       "      <td>BOLT EV</td>\n",
       "      <td>2020</td>\n",
       "      <td>259</td>\n",
       "    </tr>\n",
       "    <tr>\n",
       "      <th>8675</th>\n",
       "      <td>HYUNDAI</td>\n",
       "      <td>KONA</td>\n",
       "      <td>2020</td>\n",
       "      <td>258</td>\n",
       "    </tr>\n",
       "    <tr>\n",
       "      <th>11450</th>\n",
       "      <td>TESLA</td>\n",
       "      <td>ROADSTER</td>\n",
       "      <td>2010</td>\n",
       "      <td>245</td>\n",
       "    </tr>\n",
       "    <tr>\n",
       "      <th>95473</th>\n",
       "      <td>KIA</td>\n",
       "      <td>NIRO</td>\n",
       "      <td>2020</td>\n",
       "      <td>239</td>\n",
       "    </tr>\n",
       "    <tr>\n",
       "      <th>92890</th>\n",
       "      <td>JAGUAR</td>\n",
       "      <td>I-PACE</td>\n",
       "      <td>2019</td>\n",
       "      <td>234</td>\n",
       "    </tr>\n",
       "    <tr>\n",
       "      <th>99765</th>\n",
       "      <td>POLESTAR</td>\n",
       "      <td>PS2</td>\n",
       "      <td>2021</td>\n",
       "      <td>233</td>\n",
       "    </tr>\n",
       "    <tr>\n",
       "      <th>51718</th>\n",
       "      <td>AUDI</td>\n",
       "      <td>E-TRON</td>\n",
       "      <td>2021</td>\n",
       "      <td>222</td>\n",
       "    </tr>\n",
       "    <tr>\n",
       "      <th>91392</th>\n",
       "      <td>AUDI</td>\n",
       "      <td>E-TRON SPORTBACK</td>\n",
       "      <td>2021</td>\n",
       "      <td>218</td>\n",
       "    </tr>\n",
       "    <tr>\n",
       "      <th>35039</th>\n",
       "      <td>NISSAN</td>\n",
       "      <td>LEAF</td>\n",
       "      <td>2020</td>\n",
       "      <td>215</td>\n",
       "    </tr>\n",
       "    <tr>\n",
       "      <th>106312</th>\n",
       "      <td>PORSCHE</td>\n",
       "      <td>TAYCAN</td>\n",
       "      <td>2021</td>\n",
       "      <td>203</td>\n",
       "    </tr>\n",
       "    <tr>\n",
       "      <th>15900</th>\n",
       "      <td>HYUNDAI</td>\n",
       "      <td>IONIQ</td>\n",
       "      <td>2020</td>\n",
       "      <td>170</td>\n",
       "    </tr>\n",
       "    <tr>\n",
       "      <th>31865</th>\n",
       "      <td>BMW</td>\n",
       "      <td>I3</td>\n",
       "      <td>2020</td>\n",
       "      <td>153</td>\n",
       "    </tr>\n",
       "    <tr>\n",
       "      <th>54572</th>\n",
       "      <td>VOLKSWAGEN</td>\n",
       "      <td>E-GOLF</td>\n",
       "      <td>2019</td>\n",
       "      <td>125</td>\n",
       "    </tr>\n",
       "    <tr>\n",
       "      <th>20021</th>\n",
       "      <td>KIA</td>\n",
       "      <td>SOUL EV</td>\n",
       "      <td>2018</td>\n",
       "      <td>111</td>\n",
       "    </tr>\n",
       "    <tr>\n",
       "      <th>42242</th>\n",
       "      <td>MINI</td>\n",
       "      <td>HARDTOP</td>\n",
       "      <td>2021</td>\n",
       "      <td>110</td>\n",
       "    </tr>\n",
       "    <tr>\n",
       "      <th>90772</th>\n",
       "      <td>TOYOTA</td>\n",
       "      <td>RAV4</td>\n",
       "      <td>2013</td>\n",
       "      <td>103</td>\n",
       "    </tr>\n",
       "  </tbody>\n",
       "</table>\n",
       "</div>"
      ],
      "text/plain": [
       "              Make             Model  ModelYear  ElectricRange\n",
       "50515        TESLA           MODEL S       2020            337\n",
       "13184        TESLA           MODEL 3       2020            322\n",
       "54413        TESLA           MODEL X       2020            293\n",
       "102114       TESLA           MODEL Y       2020            291\n",
       "76334    CHEVROLET           BOLT EV       2020            259\n",
       "8675       HYUNDAI              KONA       2020            258\n",
       "11450        TESLA          ROADSTER       2010            245\n",
       "95473          KIA              NIRO       2020            239\n",
       "92890       JAGUAR            I-PACE       2019            234\n",
       "99765     POLESTAR               PS2       2021            233\n",
       "51718         AUDI            E-TRON       2021            222\n",
       "91392         AUDI  E-TRON SPORTBACK       2021            218\n",
       "35039       NISSAN              LEAF       2020            215\n",
       "106312     PORSCHE            TAYCAN       2021            203\n",
       "15900      HYUNDAI             IONIQ       2020            170\n",
       "31865          BMW                I3       2020            153\n",
       "54572   VOLKSWAGEN            E-GOLF       2019            125\n",
       "20021          KIA           SOUL EV       2018            111\n",
       "42242         MINI           HARDTOP       2021            110\n",
       "90772       TOYOTA              RAV4       2013            103"
      ]
     },
     "execution_count": 114,
     "metadata": {},
     "output_type": "execute_result"
    }
   ],
   "source": [
    "cars_range = data_cars.sort_values('ElectricRange', ascending=False)\n",
    "cars_range = cars_range.drop_duplicates(subset=['Make', 'Model'], keep='first')\n",
    "cars_range.head(20)[['Make', 'Model', 'ModelYear', 'ElectricRange']]\n",
    "# samochody z najwiekszymi zakresami"
   ]
  },
  {
   "cell_type": "code",
   "execution_count": 115,
   "metadata": {},
   "outputs": [
    {
     "data": {
      "text/html": [
       "<div>\n",
       "<style scoped>\n",
       "    .dataframe tbody tr th:only-of-type {\n",
       "        vertical-align: middle;\n",
       "    }\n",
       "\n",
       "    .dataframe tbody tr th {\n",
       "        vertical-align: top;\n",
       "    }\n",
       "\n",
       "    .dataframe thead th {\n",
       "        text-align: right;\n",
       "    }\n",
       "</style>\n",
       "<table border=\"1\" class=\"dataframe\">\n",
       "  <thead>\n",
       "    <tr style=\"text-align: right;\">\n",
       "      <th></th>\n",
       "      <th></th>\n",
       "      <th>ModelYear</th>\n",
       "      <th>ElectricRange</th>\n",
       "    </tr>\n",
       "    <tr>\n",
       "      <th>Make</th>\n",
       "      <th>Model</th>\n",
       "      <th></th>\n",
       "      <th></th>\n",
       "    </tr>\n",
       "  </thead>\n",
       "  <tbody>\n",
       "    <tr>\n",
       "      <th rowspan=\"5\" valign=\"top\">AUDI</th>\n",
       "      <th>A3</th>\n",
       "      <td>2017</td>\n",
       "      <td>16</td>\n",
       "    </tr>\n",
       "    <tr>\n",
       "      <th>A7</th>\n",
       "      <td>2021</td>\n",
       "      <td>24</td>\n",
       "    </tr>\n",
       "    <tr>\n",
       "      <th>A8 E</th>\n",
       "      <td>2020</td>\n",
       "      <td>17</td>\n",
       "    </tr>\n",
       "    <tr>\n",
       "      <th>E-TRON</th>\n",
       "      <td>2021</td>\n",
       "      <td>222</td>\n",
       "    </tr>\n",
       "    <tr>\n",
       "      <th>E-TRON SPORTBACK</th>\n",
       "      <td>2021</td>\n",
       "      <td>218</td>\n",
       "    </tr>\n",
       "    <tr>\n",
       "      <th>...</th>\n",
       "      <th>...</th>\n",
       "      <td>...</td>\n",
       "      <td>...</td>\n",
       "    </tr>\n",
       "    <tr>\n",
       "      <th rowspan=\"5\" valign=\"top\">VOLVO</th>\n",
       "      <th>S60</th>\n",
       "      <td>2022</td>\n",
       "      <td>41</td>\n",
       "    </tr>\n",
       "    <tr>\n",
       "      <th>S90</th>\n",
       "      <td>2018</td>\n",
       "      <td>21</td>\n",
       "    </tr>\n",
       "    <tr>\n",
       "      <th>V60</th>\n",
       "      <td>2022</td>\n",
       "      <td>41</td>\n",
       "    </tr>\n",
       "    <tr>\n",
       "      <th>XC60</th>\n",
       "      <td>2022</td>\n",
       "      <td>35</td>\n",
       "    </tr>\n",
       "    <tr>\n",
       "      <th>XC90</th>\n",
       "      <td>2022</td>\n",
       "      <td>35</td>\n",
       "    </tr>\n",
       "  </tbody>\n",
       "</table>\n",
       "<p>89 rows × 2 columns</p>\n",
       "</div>"
      ],
      "text/plain": [
       "                        ModelYear  ElectricRange\n",
       "Make  Model                                     \n",
       "AUDI  A3                     2017             16\n",
       "      A7                     2021             24\n",
       "      A8 E                   2020             17\n",
       "      E-TRON                 2021            222\n",
       "      E-TRON SPORTBACK       2021            218\n",
       "...                           ...            ...\n",
       "VOLVO S60                    2022             41\n",
       "      S90                    2018             21\n",
       "      V60                    2022             41\n",
       "      XC60                   2022             35\n",
       "      XC90                   2022             35\n",
       "\n",
       "[89 rows x 2 columns]"
      ]
     },
     "execution_count": 115,
     "metadata": {},
     "output_type": "execute_result"
    }
   ],
   "source": [
    "group = cars_range.groupby(['Make', 'Model'])[[\"ModelYear\", \"ElectricRange\"]].sum()\n",
    "group\n",
    "# pogrupowanie samochodow na marki"
   ]
  },
  {
   "cell_type": "code",
   "execution_count": null,
   "metadata": {},
   "outputs": [],
   "source": []
  }
 ],
 "metadata": {
  "kernelspec": {
   "display_name": ".venv",
   "language": "python",
   "name": "python3"
  },
  "language_info": {
   "codemirror_mode": {
    "name": "ipython",
    "version": 3
   },
   "file_extension": ".py",
   "mimetype": "text/x-python",
   "name": "python",
   "nbconvert_exporter": "python",
   "pygments_lexer": "ipython3",
   "version": "3.9.13"
  },
  "orig_nbformat": 4,
  "vscode": {
   "interpreter": {
    "hash": "a8e4ba38c892e1b6db98c7e4e6192a2f2f07f66b9c3e01ab7bd6a3c3699f642f"
   }
  }
 },
 "nbformat": 4,
 "nbformat_minor": 2
}
